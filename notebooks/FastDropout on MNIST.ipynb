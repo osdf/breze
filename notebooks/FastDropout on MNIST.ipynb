{
 "metadata": {
  "name": ""
 },
 "nbformat": 3,
 "nbformat_minor": 0,
 "worksheets": [
  {
   "cells": [
    {
     "cell_type": "code",
     "collapsed": false,
     "input": [
      "import cPickle\n",
      "import gzip\n",
      "import time\n",
      "\n",
      "import numpy as np\n",
      "import theano.tensor as T\n",
      "\n",
      "import climin.stops\n",
      "import climin.initialize\n",
      "import climin.project\n",
      "import climin.schedule\n",
      "import climin.mathadapt as ma\n",
      "\n",
      "from breze.learn.mlp import FastDropoutNetwork\n",
      "from breze.arch.component.varprop.transfer import rectifier\n",
      "from breze.arch.component.varprop.loss import nce\n",
      "\n",
      "from breze.learn.data import one_hot\n",
      "import breze.learn.base"
     ],
     "language": "python",
     "metadata": {},
     "outputs": [],
     "prompt_number": 1
    },
    {
     "cell_type": "markdown",
     "metadata": {},
     "source": [
      "Prepare Data\n",
      "============\n",
      "\n",
      "We load the MNIST data. It is available at http://www.iro.umontreal.ca/~lisa/deep/data/mnist/mnist.pkl.gz.\n",
      "\n",
      "The inputs all lie between 0 and 1. Each target is a one of k variable."
     ]
    },
    {
     "cell_type": "code",
     "collapsed": false,
     "input": [
      "datafile = 'mnist.pkl.gz'\n",
      "# Load data.                                                                                                   \n",
      "\n",
      "with gzip.open(datafile,'rb') as f:                                                                        \n",
      "    train_set, val_set, test_set = cPickle.load(f)                                                       \n",
      "\n",
      "X, Z = train_set                                                                                               \n",
      "VX, VZ = val_set\n",
      "TX, TZ = test_set\n",
      "\n",
      "Z = one_hot(Z, 10)\n",
      "VZ = one_hot(VZ, 10)\n",
      "TZ = one_hot(TZ, 10)\n",
      "\n",
      "image_dims = 28, 28\n",
      "\n",
      "X, Z, VX, VZ, TX, TZ = [breze.learn.base.cast_array_to_local_type(i) for i in (X, Z, VX, VZ, TX, TZ)]"
     ],
     "language": "python",
     "metadata": {},
     "outputs": [],
     "prompt_number": 2
    },
    {
     "cell_type": "markdown",
     "metadata": {},
     "source": [
      "Define Model\n",
      "============"
     ]
    },
    {
     "cell_type": "code",
     "collapsed": true,
     "input": [
      "max_passes = 300\n",
      "batch_size = 250\n",
      "max_iter = max_passes * X.shape[0] / batch_size\n",
      "n_report = X.shape[0] / batch_size\n",
      "loss = 'expected_squared_hinge_1' # One of: nce, expected_squared_hinge_1, expected_hinge_1\n",
      "\n",
      "stop = climin.stops.after_n_iterations(max_iter)\n",
      "pause = climin.stops.modulo_n_iterations(n_report)\n",
      "\n",
      "optimizer = 'rmsprop', {'steprate': 0.0001, 'momentum': 0.95, 'decay': 0.9, 'step_adapt': 0.0}\n",
      "#optimizer = dropout_optimizer_conf(steprate_0=1, n_repeats=1)\n",
      "#optimizer = 'lbfgs', {'n_factors': 25}\n",
      "#optimizer = 'gd', {'steprate': 1e-2, 'momentum': climin.schedule.sutskever_blend(0.995, 10), 'momentum_type': 'nesterov'}\n",
      "\n",
      "m = FastDropoutNetwork(784, [512, 512], 10, \n",
      "                       hidden_transfers=['rectifier', 'rectifier'], out_transfer='identity',\n",
      "                       loss=loss, \n",
      "                       max_length=None,\n",
      "                       optimizer=optimizer, batch_size=batch_size, max_iter=max_iter, \n",
      "                       p_dropout_inpt=.2, p_dropout_hiddens=.5)\n",
      "climin.initialize.randomize_normal(m.parameters.data, 0, 1e-2)\n",
      "\n",
      "n_wrong = 1 - T.eq(T.argmax(m.exprs['output_in_mean'] , axis=1), T.argmax(m.exprs['target'], axis=1)).mean()\n",
      "f_n_wrong = m.function(['inpt', 'target'], n_wrong)\n",
      "                \n",
      "losses = []\n",
      "print 'max iter', max_iter"
     ],
     "language": "python",
     "metadata": {},
     "outputs": [
      {
       "output_type": "stream",
       "stream": "stdout",
       "text": [
        "max iter 60000\n"
       ]
      }
     ],
     "prompt_number": 3
    },
    {
     "cell_type": "markdown",
     "metadata": {},
     "source": [
      "We can add an SVM like L2 loss to the last layer."
     ]
    },
    {
     "cell_type": "code",
     "collapsed": false,
     "input": [
      "weight_decay = (m.parameters.hidden_to_out**2).sum()\n",
      "weight_decay /= m.exprs['inpt'].shape[0]\n",
      "m.exprs['true_loss'] = m.exprs['loss']\n",
      "c_wd = 0.01\n",
      "m.exprs['loss'] = m.exprs['loss'] + c_wd * weight_decay"
     ],
     "language": "python",
     "metadata": {},
     "outputs": [],
     "prompt_number": 4
    },
    {
     "cell_type": "markdown",
     "metadata": {},
     "source": [
      "Learn\n",
      "====="
     ]
    },
    {
     "cell_type": "code",
     "collapsed": false,
     "input": [
      "start = time.time()\n",
      "# Set up a nice printout.\n",
      "keys = '#', 'loss', 'val loss', 'seconds', 'wd', 'train emp', 'val emp', 'test emp'\n",
      "max_len = max(len(i) for i in keys)\n",
      "header = '\\t'.join(i for i in keys)\n",
      "print header\n",
      "print '-' * len(header)\n",
      "\n",
      "for i, info in enumerate(m.powerfit((X, Z), (VX, VZ), stop, pause)):\n",
      "    if info['n_iter'] % n_report != 0:\n",
      "        continue\n",
      "    passed = time.time() - start\n",
      "    losses.append((info['loss'], info['val_loss']))\n",
      "    \n",
      "    info.update({\n",
      "        'time': passed,\n",
      "        'train_emp': ma.scalar(f_n_wrong(X, Z)),\n",
      "        'val_emp': ma.scalar(f_n_wrong(VX, VZ)),\n",
      "        'test_emp': ma.scalar(f_n_wrong(TX, TZ)),\n",
      "    })\n",
      "    row = '%(n_iter)i\\t%(time)g\\t\\t%(loss)g\\t%(val_loss)g\\t%(train_emp)g\\t%(val_emp)g\\t%(test_emp)g' % info\n",
      "    print row"
     ],
     "language": "python",
     "metadata": {},
     "outputs": [
      {
       "output_type": "stream",
       "stream": "stdout",
       "text": [
        "#\tloss\tval loss\tseconds\twd\ttrain emp\tval emp\ttest emp\n",
        "-----------------------------------------------------\n",
        "0\t25.8192\t\t10.4569\t10.4574\t0.90112\t0.9035\t0.9043"
       ]
      },
      {
       "output_type": "stream",
       "stream": "stdout",
       "text": [
        "\n",
        "200\t54.468\t\t1.65612\t1.58048\t0.13518\t0.123\t0.1302"
       ]
      },
      {
       "output_type": "stream",
       "stream": "stdout",
       "text": [
        "\n",
        "400\t91.4887\t\t0.779241\t0.780615\t0.03276\t0.0319\t0.037"
       ]
      },
      {
       "output_type": "stream",
       "stream": "stdout",
       "text": [
        "\n",
        "600\t129.739\t\t0.686358\t0.736214\t0.02086\t0.0284\t0.0291"
       ]
      },
      {
       "output_type": "stream",
       "stream": "stdout",
       "text": [
        "\n",
        "800\t168.348\t\t0.617347\t0.692841\t0.01152\t0.0229\t0.0211"
       ]
      },
      {
       "output_type": "stream",
       "stream": "stdout",
       "text": [
        "\n"
       ]
      },
      {
       "output_type": "stream",
       "stream": "stderr",
       "text": [
        "/Users/bayerj/devel/climin/climin/util.py:112: UserWarning: Argument named f is not expected by <class 'climin.rmsprop.RmsProp'>\n",
        "  % (i, klass))\n"
       ]
      }
     ],
     "prompt_number": 5
    },
    {
     "cell_type": "code",
     "collapsed": false,
     "input": [
      "m.batcm.batch_size"
     ],
     "language": "python",
     "metadata": {},
     "outputs": [
      {
       "ename": "AttributeError",
       "evalue": "'FastDropoutNetwork' object has no attribute 'batcm'",
       "output_type": "pyerr",
       "traceback": [
        "\u001b[0;31m---------------------------------------------------------------------------\u001b[0m\n\u001b[0;31mAttributeError\u001b[0m                            Traceback (most recent call last)",
        "\u001b[0;32m<ipython-input-7-6cb5e7e17331>\u001b[0m in \u001b[0;36m<module>\u001b[0;34m()\u001b[0m\n\u001b[0;32m----> 1\u001b[0;31m \u001b[0mm\u001b[0m\u001b[0;34m.\u001b[0m\u001b[0mbatcm\u001b[0m\u001b[0;34m.\u001b[0m\u001b[0mbatch_size\u001b[0m\u001b[0;34m\u001b[0m\u001b[0m\n\u001b[0m",
        "\u001b[0;31mAttributeError\u001b[0m: 'FastDropoutNetwork' object has no attribute 'batcm'"
       ]
      }
     ],
     "prompt_number": 7
    },
    {
     "cell_type": "code",
     "collapsed": false,
     "input": [
      "m.parameters.data[...] = info['best_pars']"
     ],
     "language": "python",
     "metadata": {},
     "outputs": [],
     "prompt_number": 24
    },
    {
     "cell_type": "code",
     "collapsed": false,
     "input": [
      "fig = plt.figure(figsize=(16, 9))\n",
      "ax = fig.add_subplot(111)\n",
      "ax.plot(losses)"
     ],
     "language": "python",
     "metadata": {},
     "outputs": [
      {
       "output_type": "stream",
       "stream": "stdout",
       "text": [
        "\n",
        "6200\t185.706\t\t0.000145553\t0.140629\t0\t0.0134\t0.013"
       ]
      },
      {
       "output_type": "stream",
       "stream": "stdout",
       "text": [
        "\n",
        "6400\t190.552\t\t0.000128977\t0.138442\t0\t0.0131\t0.0132"
       ]
      },
      {
       "output_type": "stream",
       "stream": "stdout",
       "text": [
        "\n",
        "6600\t195.396\t\t0.000126053\t0.14053\t0\t0.0133\t0.0128"
       ]
      },
      {
       "output_type": "stream",
       "stream": "stdout",
       "text": [
        "\n",
        "6800\t200.24\t\t0.000123124\t0.138908\t0\t0.0137\t0.0127"
       ]
      },
      {
       "output_type": "stream",
       "stream": "stdout",
       "text": [
        "\n",
        "7000\t205.085\t\t0.000123142\t0.141073\t0\t0.0138\t0.0134"
       ]
      },
      {
       "output_type": "stream",
       "stream": "stdout",
       "text": [
        "\n",
        "7200\t209.931\t\t0.000120702\t0.138696\t0\t0.0135\t0.0129"
       ]
      },
      {
       "output_type": "stream",
       "stream": "stdout",
       "text": [
        "\n",
        "7400\t214.775\t\t0.000126204\t0.138789\t0\t0.0133\t0.013"
       ]
      },
      {
       "output_type": "stream",
       "stream": "stdout",
       "text": [
        "\n",
        "7600\t219.62\t\t0.000118601\t0.137715\t0\t0.0134\t0.013"
       ]
      },
      {
       "output_type": "stream",
       "stream": "stdout",
       "text": [
        "\n",
        "7800\t224.464\t\t0.000113457\t0.138215\t0\t0.0129\t0.0127"
       ]
      },
      {
       "output_type": "stream",
       "stream": "stdout",
       "text": [
        "\n",
        "8000\t229.327\t\t0.000122799\t0.138213\t0\t0.0134\t0.0129"
       ]
      },
      {
       "output_type": "stream",
       "stream": "stdout",
       "text": [
        "\n",
        "8200\t234.185\t\t0.000115046\t0.138161\t0\t0.013\t0.0129"
       ]
      },
      {
       "output_type": "stream",
       "stream": "stdout",
       "text": [
        "\n",
        "8400\t239.034\t\t0.000112231\t0.137899\t0\t0.0132\t0.0128"
       ]
      },
      {
       "output_type": "stream",
       "stream": "stdout",
       "text": [
        "\n",
        "8600\t243.88\t\t0.000109433\t0.137204\t0\t0.0133\t0.0126"
       ]
      },
      {
       "output_type": "stream",
       "stream": "stdout",
       "text": [
        "\n",
        "8800\t248.727\t\t0.000117263\t0.136831\t0\t0.0132\t0.0129"
       ]
      },
      {
       "output_type": "stream",
       "stream": "stdout",
       "text": [
        "\n",
        "9000\t253.574\t\t0.000102726\t0.136898\t0\t0.0135\t0.0126"
       ]
      },
      {
       "output_type": "stream",
       "stream": "stdout",
       "text": [
        "\n",
        "9200\t258.42\t\t0.000116116\t0.138886\t0\t0.0137\t0.0126"
       ]
      },
      {
       "output_type": "stream",
       "stream": "stdout",
       "text": [
        "\n",
        "9400\t263.265\t\t0.000100032\t0.137743\t0\t0.0139\t0.0128"
       ]
      },
      {
       "output_type": "stream",
       "stream": "stdout",
       "text": [
        "\n",
        "9600\t268.111\t\t9.96796e-05\t0.136158\t0\t0.0133\t0.013"
       ]
      },
      {
       "output_type": "stream",
       "stream": "stdout",
       "text": [
        "\n",
        "9800\t272.958\t\t0.000103363\t0.137731\t0\t0.0136\t0.0127"
       ]
      },
      {
       "output_type": "stream",
       "stream": "stdout",
       "text": [
        "\n",
        "10000\t277.806\t\t0.000104968\t0.137793\t0\t0.014\t0.0127"
       ]
      },
      {
       "output_type": "stream",
       "stream": "stdout",
       "text": [
        "\n",
        "10200\t282.651\t\t9.74975e-05\t0.13703\t0\t0.0133\t0.0131"
       ]
      },
      {
       "output_type": "stream",
       "stream": "stdout",
       "text": [
        "\n",
        "10400\t287.512\t\t0.000100835\t0.1365\t0\t0.0133\t0.0126"
       ]
      },
      {
       "output_type": "stream",
       "stream": "stdout",
       "text": [
        "\n",
        "10600\t292.369\t\t9.97402e-05\t0.13661\t0\t0.0135\t0.0124"
       ]
      },
      {
       "output_type": "stream",
       "stream": "stdout",
       "text": [
        "\n",
        "10800\t297.225\t\t0.00010091\t0.136932\t0\t0.0134\t0.0128"
       ]
      },
      {
       "output_type": "stream",
       "stream": "stdout",
       "text": [
        "\n",
        "11000\t302.073\t\t9.56341e-05\t0.13642\t0\t0.0133\t0.0123"
       ]
      },
      {
       "output_type": "stream",
       "stream": "stdout",
       "text": [
        "\n",
        "11200\t306.916\t\t9.42301e-05\t0.136609\t0\t0.0137\t0.0127"
       ]
      },
      {
       "output_type": "stream",
       "stream": "stdout",
       "text": [
        "\n",
        "11400\t311.76\t\t9.2197e-05\t0.136419\t0\t0.0138\t0.0128"
       ]
      },
      {
       "output_type": "stream",
       "stream": "stdout",
       "text": [
        "\n",
        "11600\t316.603\t\t0.000102394\t0.135593\t0\t0.0131\t0.0124"
       ]
      },
      {
       "output_type": "stream",
       "stream": "stdout",
       "text": [
        "\n",
        "11800\t321.446\t\t9.67062e-05\t0.135764\t0\t0.0134\t0.0126"
       ]
      },
      {
       "output_type": "stream",
       "stream": "stdout",
       "text": [
        "\n",
        "12000\t326.29\t\t9.32203e-05\t0.136431\t0\t0.0133\t0.0129"
       ]
      },
      {
       "output_type": "stream",
       "stream": "stdout",
       "text": [
        "\n",
        "12200\t331.135\t\t8.88218e-05\t0.136388\t0\t0.0138\t0.0125"
       ]
      },
      {
       "output_type": "stream",
       "stream": "stdout",
       "text": [
        "\n",
        "12400\t335.978\t\t8.78654e-05\t0.136608\t0\t0.0135\t0.0127"
       ]
      },
      {
       "output_type": "stream",
       "stream": "stdout",
       "text": [
        "\n",
        "12600\t340.822\t\t9.04376e-05\t0.134829\t0\t0.0133\t0.0128"
       ]
      },
      {
       "output_type": "stream",
       "stream": "stdout",
       "text": [
        "\n",
        "12800\t345.667\t\t8.57109e-05\t0.135456\t0\t0.0135\t0.0124"
       ]
      },
      {
       "output_type": "stream",
       "stream": "stdout",
       "text": [
        "\n",
        "13000\t350.518\t\t8.50831e-05\t0.136342\t0\t0.0132\t0.0128"
       ]
      },
      {
       "output_type": "stream",
       "stream": "stdout",
       "text": [
        "\n",
        "13200\t355.377\t\t8.90941e-05\t0.133763\t0\t0.0132\t0.0131"
       ]
      },
      {
       "output_type": "stream",
       "stream": "stdout",
       "text": [
        "\n",
        "13400\t360.225\t\t8.9728e-05\t0.13551\t0\t0.0138\t0.0127"
       ]
      },
      {
       "output_type": "stream",
       "stream": "stdout",
       "text": [
        "\n",
        "13600\t365.076\t\t8.93212e-05\t0.136567\t0\t0.0139\t0.0126"
       ]
      },
      {
       "output_type": "stream",
       "stream": "stdout",
       "text": [
        "\n",
        "13800\t369.921\t\t8.20759e-05\t0.13565\t0\t0.0134\t0.0129"
       ]
      },
      {
       "output_type": "stream",
       "stream": "stdout",
       "text": [
        "\n",
        "14000\t374.768\t\t8.45205e-05\t0.134416\t0\t0.0133\t0.0127"
       ]
      },
      {
       "output_type": "stream",
       "stream": "stdout",
       "text": [
        "\n",
        "14200\t379.612\t\t8.76961e-05\t0.135497\t0\t0.0136\t0.0126"
       ]
      },
      {
       "output_type": "stream",
       "stream": "stdout",
       "text": [
        "\n",
        "14400\t384.46\t\t8.40518e-05\t0.135183\t0\t0.0133\t0.0127"
       ]
      },
      {
       "output_type": "stream",
       "stream": "stdout",
       "text": [
        "\n",
        "14600\t389.304\t\t8.09603e-05\t0.135302\t0\t0.0136\t0.0128"
       ]
      },
      {
       "output_type": "stream",
       "stream": "stdout",
       "text": [
        "\n",
        "14800\t394.15\t\t8.12172e-05\t0.134759\t0\t0.0135\t0.0127"
       ]
      },
      {
       "output_type": "stream",
       "stream": "stdout",
       "text": [
        "\n",
        "15000\t398.994\t\t8.39871e-05\t0.135114\t0\t0.0137\t0.0124"
       ]
      },
      {
       "output_type": "stream",
       "stream": "stdout",
       "text": [
        "\n",
        "15200\t403.838\t\t8.40129e-05\t0.135218\t0\t0.0132\t0.0126"
       ]
      },
      {
       "output_type": "stream",
       "stream": "stdout",
       "text": [
        "\n",
        "15400\t408.683\t\t8.05517e-05\t0.135018\t0\t0.0134\t0.0123"
       ]
      },
      {
       "output_type": "stream",
       "stream": "stdout",
       "text": [
        "\n",
        "15600\t413.534\t\t8.47051e-05\t0.134792\t0\t0.0135\t0.0125"
       ]
      },
      {
       "output_type": "stream",
       "stream": "stdout",
       "text": [
        "\n",
        "15800\t418.377\t\t8.24431e-05\t0.134663\t0\t0.0135\t0.0128"
       ]
      },
      {
       "output_type": "stream",
       "stream": "stdout",
       "text": [
        "\n",
        "16000\t423.222\t\t8.23091e-05\t0.135735\t0\t0.0136\t0.0124"
       ]
      },
      {
       "output_type": "stream",
       "stream": "stdout",
       "text": [
        "\n",
        "16200\t428.069\t\t7.67736e-05\t0.135221\t0\t0.0133\t0.0127"
       ]
      },
      {
       "output_type": "stream",
       "stream": "stdout",
       "text": [
        "\n",
        "16400\t432.913\t\t8.35825e-05\t0.135246\t0\t0.0133\t0.0129"
       ]
      },
      {
       "output_type": "stream",
       "stream": "stdout",
       "text": [
        "\n",
        "16600\t437.759\t\t7.98373e-05\t0.134626\t0\t0.0132\t0.0126"
       ]
      },
      {
       "output_type": "stream",
       "stream": "stdout",
       "text": [
        "\n",
        "16800\t442.603\t\t7.71875e-05\t0.134192\t0\t0.0134\t0.0124"
       ]
      },
      {
       "output_type": "stream",
       "stream": "stdout",
       "text": [
        "\n",
        "17000\t447.446\t\t7.89315e-05\t0.134907\t0\t0.0134\t0.0125"
       ]
      },
      {
       "output_type": "stream",
       "stream": "stdout",
       "text": [
        "\n",
        "17200\t452.292\t\t7.38547e-05\t0.135187\t0\t0.0132\t0.0125"
       ]
      },
      {
       "output_type": "stream",
       "stream": "stdout",
       "text": [
        "\n",
        "17400\t457.134\t\t7.91291e-05\t0.134697\t0\t0.0135\t0.0125"
       ]
      },
      {
       "output_type": "stream",
       "stream": "stdout",
       "text": [
        "\n",
        "17600\t461.975\t\t8.6654e-05\t0.135977\t0\t0.0138\t0.0126"
       ]
      },
      {
       "output_type": "stream",
       "stream": "stdout",
       "text": [
        "\n",
        "17800\t466.818\t\t7.32238e-05\t0.134599\t0\t0.0132\t0.0126"
       ]
      },
      {
       "output_type": "stream",
       "stream": "stdout",
       "text": [
        "\n",
        "18000\t471.661\t\t7.60353e-05\t0.134681\t0\t0.0132\t0.0132"
       ]
      },
      {
       "output_type": "stream",
       "stream": "stdout",
       "text": [
        "\n",
        "18200\t476.505\t\t7.50094e-05\t0.134035\t0\t0.0134\t0.0125"
       ]
      },
      {
       "output_type": "stream",
       "stream": "stdout",
       "text": [
        "\n",
        "18400\t481.355\t\t7.61667e-05\t0.134833\t0\t0.0134\t0.013"
       ]
      },
      {
       "output_type": "stream",
       "stream": "stdout",
       "text": [
        "\n",
        "18600\t486.214\t\t7.21679e-05\t0.133782\t0\t0.013\t0.0128"
       ]
      },
      {
       "output_type": "stream",
       "stream": "stdout",
       "text": [
        "\n",
        "18800\t491.06\t\t7.70884e-05\t0.134105\t0\t0.0134\t0.0128"
       ]
      },
      {
       "output_type": "stream",
       "stream": "stdout",
       "text": [
        "\n",
        "19000\t495.904\t\t7.23618e-05\t0.133642\t0\t0.0136\t0.0128"
       ]
      },
      {
       "output_type": "stream",
       "stream": "stdout",
       "text": [
        "\n",
        "19200\t500.748\t\t7.07606e-05\t0.134694\t0\t0.0131\t0.0127"
       ]
      },
      {
       "output_type": "stream",
       "stream": "stdout",
       "text": [
        "\n",
        "19400\t505.591\t\t7.16326e-05\t0.134616\t0\t0.0132\t0.0127"
       ]
      },
      {
       "output_type": "stream",
       "stream": "stdout",
       "text": [
        "\n",
        "19600\t510.435\t\t7.15884e-05\t0.133766\t0\t0.0136\t0.0129"
       ]
      },
      {
       "output_type": "stream",
       "stream": "stdout",
       "text": [
        "\n",
        "19800\t515.28\t\t7.11153e-05\t0.133144\t0\t0.0134\t0.0124"
       ]
      },
      {
       "output_type": "stream",
       "stream": "stdout",
       "text": [
        "\n",
        "20000\t520.122\t\t7.1011e-05\t0.135072\t0\t0.0135\t0.0126"
       ]
      },
      {
       "output_type": "stream",
       "stream": "stdout",
       "text": [
        "\n",
        "20200\t524.966\t\t6.766e-05\t0.134467\t0\t0.0135\t0.0129"
       ]
      },
      {
       "output_type": "stream",
       "stream": "stdout",
       "text": [
        "\n",
        "20400\t529.809\t\t6.5742e-05\t0.133382\t0\t0.0133\t0.0125"
       ]
      },
      {
       "output_type": "stream",
       "stream": "stdout",
       "text": [
        "\n",
        "20600\t534.654\t\t7.1564e-05\t0.13455\t0\t0.0135\t0.0122"
       ]
      },
      {
       "output_type": "stream",
       "stream": "stdout",
       "text": [
        "\n",
        "20800\t539.497\t\t6.79626e-05\t0.135408\t0\t0.0138\t0.0129"
       ]
      },
      {
       "output_type": "stream",
       "stream": "stdout",
       "text": [
        "\n",
        "21000\t544.359\t\t7.23494e-05\t0.134119\t0\t0.0136\t0.0129"
       ]
      },
      {
       "output_type": "stream",
       "stream": "stdout",
       "text": [
        "\n",
        "21200\t549.217\t\t7.05853e-05\t0.132756\t0\t0.0131\t0.0124"
       ]
      },
      {
       "output_type": "stream",
       "stream": "stdout",
       "text": [
        "\n",
        "21400\t554.067\t\t6.53689e-05\t0.133813\t0\t0.0131\t0.0127"
       ]
      },
      {
       "output_type": "stream",
       "stream": "stdout",
       "text": [
        "\n",
        "21600\t558.915\t\t7.5203e-05\t0.133434\t0\t0.0135\t0.0124"
       ]
      },
      {
       "output_type": "stream",
       "stream": "stdout",
       "text": [
        "\n",
        "21800\t563.759\t\t6.72025e-05\t0.133939\t0\t0.0132\t0.0125"
       ]
      },
      {
       "output_type": "stream",
       "stream": "stdout",
       "text": [
        "\n",
        "22000\t568.603\t\t7.07965e-05\t0.132662\t0\t0.0129\t0.0127"
       ]
      },
      {
       "output_type": "stream",
       "stream": "stdout",
       "text": [
        "\n",
        "22200\t573.446\t\t6.84119e-05\t0.132782\t0\t0.0132\t0.0127"
       ]
      },
      {
       "output_type": "stream",
       "stream": "stdout",
       "text": [
        "\n",
        "22400\t578.287\t\t6.44786e-05\t0.132182\t0\t0.0132\t0.0126"
       ]
      },
      {
       "output_type": "stream",
       "stream": "stdout",
       "text": [
        "\n",
        "22600\t583.132\t\t6.70672e-05\t0.132826\t0\t0.013\t0.0126"
       ]
      },
      {
       "output_type": "stream",
       "stream": "stdout",
       "text": [
        "\n",
        "22800\t587.975\t\t6.78174e-05\t0.132181\t0\t0.0135\t0.0123"
       ]
      },
      {
       "output_type": "stream",
       "stream": "stdout",
       "text": [
        "\n",
        "23000\t592.819\t\t6.46335e-05\t0.132063\t0\t0.0137\t0.0126"
       ]
      },
      {
       "output_type": "stream",
       "stream": "stdout",
       "text": [
        "\n",
        "23200\t597.662\t\t6.5713e-05\t0.132729\t0\t0.0131\t0.0125"
       ]
      },
      {
       "output_type": "stream",
       "stream": "stdout",
       "text": [
        "\n",
        "23400\t602.505\t\t6.29703e-05\t0.133566\t0\t0.0135\t0.0126"
       ]
      },
      {
       "output_type": "stream",
       "stream": "stdout",
       "text": [
        "\n",
        "23600\t607.349\t\t6.65352e-05\t0.133396\t0\t0.0135\t0.0125"
       ]
      },
      {
       "output_type": "stream",
       "stream": "stdout",
       "text": [
        "\n",
        "23800\t612.209\t\t6.00309e-05\t0.133493\t0\t0.0132\t0.0121"
       ]
      },
      {
       "output_type": "stream",
       "stream": "stdout",
       "text": [
        "\n",
        "24000\t617.063\t\t6.18355e-05\t0.131922\t0\t0.0132\t0.0124"
       ]
      },
      {
       "output_type": "stream",
       "stream": "stdout",
       "text": [
        "\n",
        "24200\t621.911\t\t6.86936e-05\t0.133843\t0\t0.0131\t0.0127"
       ]
      },
      {
       "output_type": "stream",
       "stream": "stdout",
       "text": [
        "\n",
        "24400\t626.754\t\t6.18564e-05\t0.13185\t0\t0.0132\t0.0128"
       ]
      },
      {
       "output_type": "stream",
       "stream": "stdout",
       "text": [
        "\n",
        "24600\t631.597\t\t6.60448e-05\t0.132564\t0\t0.0132\t0.0123"
       ]
      },
      {
       "output_type": "stream",
       "stream": "stdout",
       "text": [
        "\n",
        "24800\t636.441\t\t6.57007e-05\t0.133459\t0\t0.0135\t0.013"
       ]
      },
      {
       "output_type": "stream",
       "stream": "stdout",
       "text": [
        "\n",
        "25000\t641.284\t\t6.38242e-05\t0.132608\t0\t0.0136\t0.0125"
       ]
      },
      {
       "output_type": "stream",
       "stream": "stdout",
       "text": [
        "\n",
        "25200\t646.126\t\t6.09161e-05\t0.132825\t0\t0.013\t0.0127"
       ]
      },
      {
       "output_type": "stream",
       "stream": "stdout",
       "text": [
        "\n",
        "25400\t650.969\t\t6.41118e-05\t0.131996\t0\t0.0131\t0.0124"
       ]
      },
      {
       "output_type": "stream",
       "stream": "stdout",
       "text": [
        "\n",
        "25600\t655.811\t\t6.32195e-05\t0.132259\t0\t0.0131\t0.0129"
       ]
      },
      {
       "output_type": "stream",
       "stream": "stdout",
       "text": [
        "\n",
        "25800\t660.656\t\t6.19002e-05\t0.131745\t0\t0.0133\t0.0125"
       ]
      },
      {
       "output_type": "stream",
       "stream": "stdout",
       "text": [
        "\n",
        "26000\t665.501\t\t6.32761e-05\t0.131779\t0\t0.0134\t0.013"
       ]
      },
      {
       "output_type": "stream",
       "stream": "stdout",
       "text": [
        "\n",
        "26200\t670.361\t\t6.24955e-05\t0.132269\t0\t0.013\t0.0127"
       ]
      },
      {
       "output_type": "stream",
       "stream": "stdout",
       "text": [
        "\n",
        "26400\t675.214\t\t5.92898e-05\t0.132281\t0\t0.0132\t0.0128"
       ]
      },
      {
       "output_type": "stream",
       "stream": "stdout",
       "text": [
        "\n",
        "26600\t680.069\t\t5.73531e-05\t0.132066\t0\t0.0132\t0.0125"
       ]
      },
      {
       "output_type": "stream",
       "stream": "stdout",
       "text": [
        "\n",
        "26800\t684.914\t\t6.06227e-05\t0.133738\t0\t0.0137\t0.0127"
       ]
      },
      {
       "output_type": "stream",
       "stream": "stdout",
       "text": [
        "\n",
        "27000\t689.757\t\t6.42837e-05\t0.133095\t0\t0.0133\t0.0126"
       ]
      },
      {
       "output_type": "stream",
       "stream": "stdout",
       "text": [
        "\n",
        "27200\t694.598\t\t6.13177e-05\t0.13288\t0\t0.0134\t0.0126"
       ]
      },
      {
       "output_type": "stream",
       "stream": "stdout",
       "text": [
        "\n",
        "27400\t699.44\t\t6.27003e-05\t0.133308\t0\t0.0137\t0.0128"
       ]
      },
      {
       "output_type": "stream",
       "stream": "stdout",
       "text": [
        "\n",
        "27600\t704.283\t\t6.00836e-05\t0.132805\t0\t0.0136\t0.0125"
       ]
      },
      {
       "output_type": "stream",
       "stream": "stdout",
       "text": [
        "\n",
        "27800\t709.124\t\t6.11301e-05\t0.132645\t0\t0.0134\t0.0126"
       ]
      },
      {
       "output_type": "stream",
       "stream": "stdout",
       "text": [
        "\n",
        "28000\t713.964\t\t5.76641e-05\t0.132448\t0\t0.0133\t0.0124"
       ]
      },
      {
       "output_type": "stream",
       "stream": "stdout",
       "text": [
        "\n",
        "28200\t718.807\t\t5.79783e-05\t0.132016\t0\t0.0133\t0.0126"
       ]
      },
      {
       "output_type": "stream",
       "stream": "stdout",
       "text": [
        "\n",
        "28400\t723.652\t\t5.90439e-05\t0.132265\t0\t0.0134\t0.0127"
       ]
      },
      {
       "output_type": "stream",
       "stream": "stdout",
       "text": [
        "\n",
        "28600\t728.497\t\t5.82494e-05\t0.132486\t0\t0.0134\t0.0125"
       ]
      },
      {
       "output_type": "stream",
       "stream": "stdout",
       "text": [
        "\n",
        "28800\t733.347\t\t5.56739e-05\t0.131418\t0\t0.0135\t0.0124"
       ]
      },
      {
       "output_type": "stream",
       "stream": "stdout",
       "text": [
        "\n",
        "29000\t738.206\t\t5.69057e-05\t0.131948\t0\t0.0136\t0.0124"
       ]
      },
      {
       "output_type": "stream",
       "stream": "stdout",
       "text": [
        "\n",
        "29200\t743.055\t\t5.77187e-05\t0.131725\t0\t0.0135\t0.0125"
       ]
      },
      {
       "output_type": "stream",
       "stream": "stdout",
       "text": [
        "\n",
        "29400\t747.903\t\t5.61976e-05\t0.131902\t0\t0.0136\t0.0124"
       ]
      },
      {
       "output_type": "stream",
       "stream": "stdout",
       "text": [
        "\n",
        "29600\t752.748\t\t5.74029e-05\t0.131895\t0\t0.0134\t0.0125"
       ]
      },
      {
       "output_type": "stream",
       "stream": "stdout",
       "text": [
        "\n",
        "29800\t757.593\t\t6.00904e-05\t0.13172\t0\t0.0133\t0.0121"
       ]
      },
      {
       "output_type": "stream",
       "stream": "stdout",
       "text": [
        "\n",
        "30000\t762.437\t\t5.9105e-05\t0.131286\t0\t0.0135\t0.0126"
       ]
      },
      {
       "output_type": "stream",
       "stream": "stdout",
       "text": [
        "\n",
        "30200\t767.282\t\t5.55296e-05\t0.132469\t0\t0.0132\t0.0123"
       ]
      },
      {
       "output_type": "stream",
       "stream": "stdout",
       "text": [
        "\n",
        "30400\t772.126\t\t5.66338e-05\t0.131451\t0\t0.0132\t0.0129"
       ]
      },
      {
       "output_type": "stream",
       "stream": "stdout",
       "text": [
        "\n",
        "30600\t776.968\t\t5.71577e-05\t0.132014\t0\t0.0133\t0.0129"
       ]
      },
      {
       "output_type": "stream",
       "stream": "stdout",
       "text": [
        "\n",
        "30800\t781.812\t\t5.65779e-05\t0.130924\t0\t0.0132\t0.0126"
       ]
      },
      {
       "output_type": "stream",
       "stream": "stdout",
       "text": [
        "\n",
        "31000\t786.654\t\t5.87355e-05\t0.131074\t0\t0.0134\t0.0129"
       ]
      },
      {
       "output_type": "stream",
       "stream": "stdout",
       "text": [
        "\n",
        "31200\t791.497\t\t5.4801e-05\t0.130679\t0\t0.0137\t0.0123"
       ]
      },
      {
       "output_type": "stream",
       "stream": "stdout",
       "text": [
        "\n",
        "31400\t796.346\t\t5.66749e-05\t0.131385\t0\t0.0133\t0.0126"
       ]
      },
      {
       "output_type": "stream",
       "stream": "stdout",
       "text": [
        "\n",
        "31600\t801.186\t\t5.47145e-05\t0.131477\t0\t0.0135\t0.0125"
       ]
      },
      {
       "output_type": "stream",
       "stream": "stdout",
       "text": [
        "\n",
        "31800\t806.028\t\t5.36049e-05\t0.132659\t0\t0.0136\t0.0127"
       ]
      },
      {
       "output_type": "stream",
       "stream": "stdout",
       "text": [
        "\n",
        "32000\t810.877\t\t5.70923e-05\t0.132294\t0\t0.0135\t0.0124"
       ]
      },
      {
       "output_type": "stream",
       "stream": "stdout",
       "text": [
        "\n",
        "32200\t815.719\t\t5.2634e-05\t0.1309\t0\t0.0134\t0.0125"
       ]
      },
      {
       "output_type": "stream",
       "stream": "stdout",
       "text": [
        "\n",
        "32400\t820.56\t\t5.202e-05\t0.131902\t0\t0.0132\t0.0124"
       ]
      },
      {
       "output_type": "stream",
       "stream": "stdout",
       "text": [
        "\n",
        "32600\t825.401\t\t5.49491e-05\t0.131695\t0\t0.0136\t0.0128"
       ]
      },
      {
       "output_type": "stream",
       "stream": "stdout",
       "text": [
        "\n",
        "32800\t830.244\t\t5.42922e-05\t0.131392\t0\t0.0135\t0.0127"
       ]
      },
      {
       "output_type": "stream",
       "stream": "stdout",
       "text": [
        "\n",
        "33000\t835.085\t\t5.70707e-05\t0.131428\t0\t0.0134\t0.0124"
       ]
      },
      {
       "output_type": "stream",
       "stream": "stdout",
       "text": [
        "\n",
        "33200\t839.926\t\t5.09185e-05\t0.131713\t0\t0.0136\t0.0126"
       ]
      },
      {
       "output_type": "stream",
       "stream": "stdout",
       "text": [
        "\n",
        "33400\t844.767\t\t5.33356e-05\t0.130968\t0\t0.0136\t0.0125"
       ]
      },
      {
       "output_type": "stream",
       "stream": "stdout",
       "text": [
        "\n",
        "33600\t849.608\t\t5.1966e-05\t0.131969\t0\t0.0135\t0.0126"
       ]
      },
      {
       "output_type": "stream",
       "stream": "stdout",
       "text": [
        "\n",
        "33800\t854.451\t\t5.18304e-05\t0.130748\t0\t0.0134\t0.0128"
       ]
      },
      {
       "output_type": "stream",
       "stream": "stdout",
       "text": [
        "\n",
        "34000\t859.297\t\t5.58472e-05\t0.131283\t0\t0.0132\t0.0125"
       ]
      },
      {
       "output_type": "stream",
       "stream": "stdout",
       "text": [
        "\n",
        "34200\t864.144\t\t5.08257e-05\t0.131795\t0\t0.0131\t0.0124"
       ]
      },
      {
       "output_type": "stream",
       "stream": "stdout",
       "text": [
        "\n",
        "34400\t869.006\t\t5.43053e-05\t0.130577\t0\t0.0137\t0.0129"
       ]
      },
      {
       "output_type": "stream",
       "stream": "stdout",
       "text": [
        "\n",
        "34600\t873.848\t\t5.46805e-05\t0.131389\t0\t0.0134\t0.0125"
       ]
      },
      {
       "output_type": "stream",
       "stream": "stdout",
       "text": [
        "\n",
        "34800\t878.69\t\t5.14045e-05\t0.131207\t0\t0.0136\t0.0125"
       ]
      },
      {
       "output_type": "stream",
       "stream": "stdout",
       "text": [
        "\n",
        "35000\t883.534\t\t5.29093e-05\t0.131407\t0\t0.0134\t0.0126"
       ]
      },
      {
       "output_type": "stream",
       "stream": "stdout",
       "text": [
        "\n",
        "35200\t888.376\t\t5.2823e-05\t0.131097\t0\t0.0134\t0.0129"
       ]
      },
      {
       "output_type": "stream",
       "stream": "stdout",
       "text": [
        "\n",
        "35400\t893.218\t\t5.02682e-05\t0.131724\t0\t0.0134\t0.0128"
       ]
      },
      {
       "output_type": "stream",
       "stream": "stdout",
       "text": [
        "\n",
        "35600\t898.061\t\t5.13246e-05\t0.130986\t0\t0.0131\t0.0126"
       ]
      },
      {
       "output_type": "stream",
       "stream": "stdout",
       "text": [
        "\n",
        "35800\t902.904\t\t4.96821e-05\t0.131654\t0\t0.0133\t0.0124"
       ]
      },
      {
       "output_type": "stream",
       "stream": "stdout",
       "text": [
        "\n",
        "36000\t907.747\t\t5.20518e-05\t0.132043\t0\t0.0138\t0.0126"
       ]
      },
      {
       "output_type": "stream",
       "stream": "stdout",
       "text": [
        "\n",
        "36200\t912.589\t\t4.99479e-05\t0.131027\t0\t0.0134\t0.0123"
       ]
      },
      {
       "output_type": "stream",
       "stream": "stdout",
       "text": [
        "\n",
        "36400\t917.435\t\t5.1228e-05\t0.131332\t0\t0.0134\t0.0126"
       ]
      },
      {
       "output_type": "stream",
       "stream": "stdout",
       "text": [
        "\n",
        "36600\t922.278\t\t5.02901e-05\t0.131926\t0\t0.0137\t0.0123"
       ]
      },
      {
       "output_type": "stream",
       "stream": "stdout",
       "text": [
        "\n",
        "36800\t927.138\t\t4.91877e-05\t0.130787\t0\t0.0133\t0.0126"
       ]
      },
      {
       "output_type": "stream",
       "stream": "stdout",
       "text": [
        "\n",
        "37000\t932\t\t4.83771e-05\t0.131333\t0\t0.0134\t0.0128"
       ]
      },
      {
       "output_type": "stream",
       "stream": "stdout",
       "text": [
        "\n",
        "37200\t936.849\t\t4.94605e-05\t0.130145\t0\t0.0132\t0.0128"
       ]
      },
      {
       "output_type": "stream",
       "stream": "stdout",
       "text": [
        "\n",
        "37400\t941.696\t\t5.01529e-05\t0.130342\t0\t0.0131\t0.0125"
       ]
      },
      {
       "output_type": "stream",
       "stream": "stdout",
       "text": [
        "\n",
        "37600\t946.54\t\t5.24928e-05\t0.12984\t0\t0.0133\t0.0127"
       ]
      },
      {
       "output_type": "stream",
       "stream": "stdout",
       "text": [
        "\n",
        "37800\t951.381\t\t4.95474e-05\t0.130081\t0\t0.0134\t0.0125"
       ]
      },
      {
       "output_type": "stream",
       "stream": "stdout",
       "text": [
        "\n",
        "38000\t956.224\t\t4.84443e-05\t0.13263\t0\t0.0133\t0.0128"
       ]
      },
      {
       "output_type": "stream",
       "stream": "stdout",
       "text": [
        "\n",
        "38200\t961.067\t\t4.90367e-05\t0.129908\t0\t0.0134\t0.0125"
       ]
      },
      {
       "output_type": "stream",
       "stream": "stdout",
       "text": [
        "\n",
        "38400\t965.91\t\t4.76702e-05\t0.130455\t0\t0.0136\t0.0124"
       ]
      },
      {
       "output_type": "stream",
       "stream": "stdout",
       "text": [
        "\n",
        "38600\t970.754\t\t4.98379e-05\t0.131565\t0\t0.0133\t0.0125"
       ]
      },
      {
       "output_type": "stream",
       "stream": "stdout",
       "text": [
        "\n",
        "38800\t975.597\t\t5.34636e-05\t0.131333\t0\t0.0136\t0.0125"
       ]
      },
      {
       "output_type": "stream",
       "stream": "stdout",
       "text": [
        "\n",
        "39000\t980.44\t\t4.92578e-05\t0.130918\t0\t0.0138\t0.0123"
       ]
      },
      {
       "output_type": "stream",
       "stream": "stdout",
       "text": [
        "\n",
        "39200\t985.284\t\t4.73721e-05\t0.130793\t0\t0.0135\t0.0124"
       ]
      },
      {
       "output_type": "stream",
       "stream": "stdout",
       "text": [
        "\n",
        "39400\t990.126\t\t4.80252e-05\t0.131706\t0\t0.0136\t0.0127"
       ]
      },
      {
       "output_type": "stream",
       "stream": "stdout",
       "text": [
        "\n",
        "39600\t994.985\t\t4.67862e-05\t0.131208\t0\t0.0138\t0.0127"
       ]
      },
      {
       "output_type": "stream",
       "stream": "stdout",
       "text": [
        "\n",
        "39800\t999.838\t\t4.83455e-05\t0.131046\t0\t0.0136\t0.0127"
       ]
      },
      {
       "output_type": "stream",
       "stream": "stdout",
       "text": [
        "\n",
        "40000\t1004.69\t\t4.87145e-05\t0.131168\t0\t0.0132\t0.0129"
       ]
      },
      {
       "output_type": "stream",
       "stream": "stdout",
       "text": [
        "\n",
        "40200\t1009.53\t\t4.71925e-05\t0.130686\t0\t0.0135\t0.0123"
       ]
      },
      {
       "output_type": "stream",
       "stream": "stdout",
       "text": [
        "\n",
        "40400\t1014.38\t\t4.67752e-05\t0.130495\t0\t0.0133\t0.0128"
       ]
      },
      {
       "output_type": "stream",
       "stream": "stdout",
       "text": [
        "\n",
        "40600\t1019.22\t\t4.62134e-05\t0.130871\t0\t0.0135\t0.0128"
       ]
      },
      {
       "output_type": "stream",
       "stream": "stdout",
       "text": [
        "\n",
        "40800\t1024.06\t\t4.74548e-05\t0.131159\t0\t0.0133\t0.0124"
       ]
      },
      {
       "output_type": "stream",
       "stream": "stdout",
       "text": [
        "\n",
        "41000\t1028.91\t\t4.79901e-05\t0.130617\t0\t0.0134\t0.0127"
       ]
      },
      {
       "output_type": "stream",
       "stream": "stdout",
       "text": [
        "\n",
        "41200\t1033.75\t\t4.82339e-05\t0.130673\t0\t0.0135\t0.0127"
       ]
      },
      {
       "output_type": "stream",
       "stream": "stdout",
       "text": [
        "\n",
        "41400\t1038.59\t\t4.94655e-05\t0.130397\t0\t0.0132\t0.0127"
       ]
      },
      {
       "output_type": "stream",
       "stream": "stdout",
       "text": [
        "\n",
        "41600\t1043.44\t\t4.66145e-05\t0.130216\t0\t0.0133\t0.0124"
       ]
      },
      {
       "output_type": "stream",
       "stream": "stdout",
       "text": [
        "\n",
        "41800\t1048.28\t\t4.64497e-05\t0.130823\t0\t0.0132\t0.0126"
       ]
      },
      {
       "output_type": "stream",
       "stream": "stdout",
       "text": [
        "\n",
        "42000\t1053.14\t\t4.53878e-05\t0.130938\t0\t0.0137\t0.0128"
       ]
      },
      {
       "output_type": "stream",
       "stream": "stdout",
       "text": [
        "\n",
        "42200\t1057.99\t\t5.13443e-05\t0.130173\t0\t0.0137\t0.0126"
       ]
      },
      {
       "output_type": "stream",
       "stream": "stdout",
       "text": [
        "\n",
        "42400\t1062.85\t\t4.46885e-05\t0.130301\t0\t0.0135\t0.0126"
       ]
      },
      {
       "output_type": "stream",
       "stream": "stdout",
       "text": [
        "\n",
        "42600\t1067.69\t\t4.62536e-05\t0.131068\t0\t0.0136\t0.0124"
       ]
      },
      {
       "output_type": "stream",
       "stream": "stdout",
       "text": [
        "\n",
        "42800\t1072.53\t\t4.62705e-05\t0.130196\t0\t0.0135\t0.0126"
       ]
      },
      {
       "output_type": "stream",
       "stream": "stdout",
       "text": [
        "\n",
        "43000\t1077.38\t\t4.75564e-05\t0.130317\t0\t0.0134\t0.0125"
       ]
      },
      {
       "output_type": "stream",
       "stream": "stdout",
       "text": [
        "\n",
        "43200\t1082.22\t\t4.80878e-05\t0.129916\t0\t0.0136\t0.0123"
       ]
      },
      {
       "output_type": "stream",
       "stream": "stdout",
       "text": [
        "\n",
        "43400\t1087.06\t\t4.6341e-05\t0.13022\t0\t0.0137\t0.0126"
       ]
      },
      {
       "output_type": "stream",
       "stream": "stdout",
       "text": [
        "\n",
        "43600\t1091.9\t\t4.7019e-05\t0.129688\t0\t0.0134\t0.0124"
       ]
      },
      {
       "output_type": "stream",
       "stream": "stdout",
       "text": [
        "\n",
        "43800\t1096.74\t\t4.4586e-05\t0.130034\t0\t0.0133\t0.0125"
       ]
      },
      {
       "output_type": "stream",
       "stream": "stdout",
       "text": [
        "\n",
        "44000\t1101.58\t\t4.45451e-05\t0.131162\t0\t0.0134\t0.0125"
       ]
      },
      {
       "output_type": "stream",
       "stream": "stdout",
       "text": [
        "\n",
        "44200\t1106.42\t\t4.60142e-05\t0.131093\t0\t0.0136\t0.0125"
       ]
      },
      {
       "output_type": "stream",
       "stream": "stdout",
       "text": [
        "\n",
        "44400\t1111.27\t\t4.59619e-05\t0.130426\t0\t0.0131\t0.0123"
       ]
      },
      {
       "output_type": "stream",
       "stream": "stdout",
       "text": [
        "\n",
        "44600\t1116.11\t\t4.37798e-05\t0.130518\t0\t0.0138\t0.0127"
       ]
      },
      {
       "output_type": "stream",
       "stream": "stdout",
       "text": [
        "\n",
        "44800\t1120.97\t\t4.74259e-05\t0.130768\t0\t0.0132\t0.0124"
       ]
      },
      {
       "output_type": "stream",
       "stream": "stdout",
       "text": [
        "\n",
        "45000\t1125.82\t\t4.67421e-05\t0.130088\t0\t0.013\t0.0127"
       ]
      },
      {
       "output_type": "stream",
       "stream": "stdout",
       "text": [
        "\n",
        "45200\t1130.67\t\t4.55491e-05\t0.130518\t0\t0.0134\t0.0125"
       ]
      },
      {
       "output_type": "stream",
       "stream": "stdout",
       "text": [
        "\n",
        "45400\t1135.51\t\t4.58822e-05\t0.130135\t0\t0.0134\t0.0123"
       ]
      },
      {
       "output_type": "stream",
       "stream": "stdout",
       "text": [
        "\n",
        "45600\t1140.35\t\t4.53669e-05\t0.130103\t0\t0.0135\t0.0126"
       ]
      },
      {
       "output_type": "stream",
       "stream": "stdout",
       "text": [
        "\n",
        "45800\t1145.2\t\t4.39468e-05\t0.129902\t0\t0.0133\t0.0123"
       ]
      },
      {
       "output_type": "stream",
       "stream": "stdout",
       "text": [
        "\n",
        "46000\t1150.04\t\t4.38351e-05\t0.130088\t0\t0.0134\t0.0126"
       ]
      },
      {
       "output_type": "stream",
       "stream": "stdout",
       "text": [
        "\n",
        "46200\t1154.89\t\t4.57078e-05\t0.129851\t0\t0.0136\t0.0127"
       ]
      },
      {
       "output_type": "stream",
       "stream": "stdout",
       "text": [
        "\n",
        "46400\t1159.73\t\t4.32932e-05\t0.130469\t0\t0.0136\t0.0127"
       ]
      },
      {
       "output_type": "stream",
       "stream": "stdout",
       "text": [
        "\n",
        "46600\t1164.57\t\t4.58852e-05\t0.130235\t0\t0.0135\t0.0127"
       ]
      },
      {
       "output_type": "stream",
       "stream": "stdout",
       "text": [
        "\n",
        "46800\t1169.42\t\t4.43012e-05\t0.129704\t0\t0.0134\t0.0124"
       ]
      },
      {
       "output_type": "stream",
       "stream": "stdout",
       "text": [
        "\n",
        "47000\t1174.26\t\t4.55832e-05\t0.130708\t0\t0.0138\t0.0129"
       ]
      },
      {
       "output_type": "stream",
       "stream": "stdout",
       "text": [
        "\n",
        "47200\t1179.11\t\t4.20506e-05\t0.130005\t0\t0.0134\t0.0126"
       ]
      },
      {
       "output_type": "stream",
       "stream": "stdout",
       "text": [
        "\n",
        "47400\t1183.95\t\t4.65256e-05\t0.131742\t0\t0.0143\t0.0125"
       ]
      },
      {
       "output_type": "stream",
       "stream": "stdout",
       "text": [
        "\n",
        "47600\t1188.79\t\t4.50578e-05\t0.129456\t0\t0.0132\t0.0126"
       ]
      },
      {
       "output_type": "stream",
       "stream": "stdout",
       "text": [
        "\n",
        "47800\t1193.64\t\t4.35647e-05\t0.130005\t0\t0.0131\t0.0126"
       ]
      },
      {
       "output_type": "stream",
       "stream": "stdout",
       "text": [
        "\n",
        "48000\t1198.48\t\t4.37263e-05\t0.129543\t0\t0.0134\t0.0124"
       ]
      },
      {
       "output_type": "stream",
       "stream": "stdout",
       "text": [
        "\n",
        "48200\t1203.32\t\t4.23077e-05\t0.13045\t0\t0.0136\t0.0125"
       ]
      },
      {
       "output_type": "stream",
       "stream": "stdout",
       "text": [
        "\n",
        "48400\t1208.17\t\t4.25774e-05\t0.129608\t0\t0.0135\t0.0124"
       ]
      },
      {
       "output_type": "stream",
       "stream": "stdout",
       "text": [
        "\n",
        "48600\t1213.01\t\t4.18356e-05\t0.130285\t0\t0.0133\t0.0127"
       ]
      },
      {
       "output_type": "stream",
       "stream": "stdout",
       "text": [
        "\n",
        "48800\t1217.85\t\t4.17938e-05\t0.129343\t0\t0.0135\t0.0129"
       ]
      },
      {
       "output_type": "stream",
       "stream": "stdout",
       "text": [
        "\n",
        "49000\t1222.69\t\t4.43614e-05\t0.130061\t0\t0.0133\t0.0127"
       ]
      },
      {
       "output_type": "stream",
       "stream": "stdout",
       "text": [
        "\n",
        "49200\t1227.53\t\t4.35289e-05\t0.129508\t0\t0.0132\t0.0128"
       ]
      },
      {
       "output_type": "stream",
       "stream": "stdout",
       "text": [
        "\n",
        "49400\t1232.38\t\t4.2008e-05\t0.130045\t0\t0.0132\t0.0128"
       ]
      },
      {
       "output_type": "stream",
       "stream": "stdout",
       "text": [
        "\n",
        "49600\t1237.22\t\t4.25939e-05\t0.129851\t0\t0.0136\t0.0124"
       ]
      },
      {
       "output_type": "stream",
       "stream": "stdout",
       "text": [
        "\n",
        "49800\t1242.06\t\t4.36913e-05\t0.129104\t0\t0.0131\t0.0128"
       ]
      },
      {
       "output_type": "stream",
       "stream": "stdout",
       "text": [
        "\n",
        "50000\t1246.91\t\t4.18415e-05\t0.129345\t0\t0.0137\t0.0126"
       ]
      },
      {
       "output_type": "stream",
       "stream": "stdout",
       "text": [
        "\n",
        "50200\t1251.77\t\t4.01642e-05\t0.129483\t0\t0.0134\t0.0127"
       ]
      },
      {
       "output_type": "stream",
       "stream": "stdout",
       "text": [
        "\n",
        "50400\t1256.61\t\t4.24213e-05\t0.129544\t0\t0.0138\t0.0122"
       ]
      },
      {
       "output_type": "stream",
       "stream": "stdout",
       "text": [
        "\n",
        "50600\t1261.45\t\t4.19975e-05\t0.130013\t0\t0.0137\t0.0127"
       ]
      },
      {
       "output_type": "stream",
       "stream": "stdout",
       "text": [
        "\n",
        "50800\t1266.29\t\t4.32563e-05\t0.129574\t0\t0.0133\t0.0124"
       ]
      },
      {
       "output_type": "stream",
       "stream": "stdout",
       "text": [
        "\n",
        "51000\t1271.14\t\t4.33804e-05\t0.129909\t0\t0.0135\t0.0127"
       ]
      },
      {
       "output_type": "stream",
       "stream": "stdout",
       "text": [
        "\n",
        "51200\t1275.98\t\t4.21922e-05\t0.129786\t0\t0.0133\t0.0126"
       ]
      },
      {
       "output_type": "stream",
       "stream": "stdout",
       "text": [
        "\n",
        "51400\t1280.82\t\t4.09951e-05\t0.129777\t0\t0.0138\t0.0125"
       ]
      },
      {
       "output_type": "stream",
       "stream": "stdout",
       "text": [
        "\n",
        "51600\t1285.67\t\t4.21077e-05\t0.13042\t0\t0.0134\t0.0124"
       ]
      },
      {
       "output_type": "stream",
       "stream": "stdout",
       "text": [
        "\n",
        "51800\t1290.51\t\t4.19674e-05\t0.129771\t0\t0.0131\t0.0126"
       ]
      },
      {
       "output_type": "stream",
       "stream": "stdout",
       "text": [
        "\n",
        "52000\t1295.35\t\t4.27262e-05\t0.129838\t0\t0.0132\t0.0129"
       ]
      },
      {
       "output_type": "stream",
       "stream": "stdout",
       "text": [
        "\n",
        "52200\t1300.19\t\t4.31546e-05\t0.129234\t0\t0.0136\t0.0125"
       ]
      },
      {
       "output_type": "stream",
       "stream": "stdout",
       "text": [
        "\n",
        "52400\t1305.03\t\t4.43954e-05\t0.130513\t0\t0.0137\t0.0124"
       ]
      },
      {
       "output_type": "stream",
       "stream": "stdout",
       "text": [
        "\n",
        "52600\t1309.89\t\t3.944e-05\t0.129845\t0\t0.0135\t0.0125"
       ]
      },
      {
       "output_type": "stream",
       "stream": "stdout",
       "text": [
        "\n",
        "52800\t1314.75\t\t4.28488e-05\t0.130145\t0\t0.0138\t0.0127"
       ]
      },
      {
       "output_type": "stream",
       "stream": "stdout",
       "text": [
        "\n",
        "53000\t1319.6\t\t4.14038e-05\t0.129004\t0\t0.0135\t0.0128"
       ]
      },
      {
       "output_type": "stream",
       "stream": "stdout",
       "text": [
        "\n",
        "53200\t1324.44\t\t3.9903e-05\t0.129388\t0\t0.0133\t0.013"
       ]
      },
      {
       "output_type": "stream",
       "stream": "stdout",
       "text": [
        "\n",
        "53400\t1329.29\t\t4.28743e-05\t0.129818\t0\t0.0133\t0.0126"
       ]
      },
      {
       "output_type": "stream",
       "stream": "stdout",
       "text": [
        "\n",
        "53600\t1334.13\t\t4.28395e-05\t0.129704\t0\t0.0132\t0.0129"
       ]
      },
      {
       "output_type": "stream",
       "stream": "stdout",
       "text": [
        "\n",
        "53800\t1338.97\t\t4.15039e-05\t0.129491\t0\t0.0133\t0.0125"
       ]
      },
      {
       "output_type": "stream",
       "stream": "stdout",
       "text": [
        "\n",
        "54000\t1343.81\t\t3.95174e-05\t0.129966\t0\t0.0133\t0.0124"
       ]
      },
      {
       "output_type": "stream",
       "stream": "stdout",
       "text": [
        "\n",
        "54200\t1348.65\t\t4.21675e-05\t0.130238\t0\t0.0134\t0.013"
       ]
      },
      {
       "output_type": "stream",
       "stream": "stdout",
       "text": [
        "\n",
        "54400\t1353.49\t\t4.21705e-05\t0.129544\t0\t0.0134\t0.0126"
       ]
      },
      {
       "output_type": "stream",
       "stream": "stdout",
       "text": [
        "\n",
        "54600\t1358.33\t\t4.07376e-05\t0.128767\t0\t0.0132\t0.0123"
       ]
      },
      {
       "output_type": "stream",
       "stream": "stdout",
       "text": [
        "\n",
        "54800\t1363.17\t\t4.08113e-05\t0.129924\t0\t0.0139\t0.0125"
       ]
      },
      {
       "output_type": "stream",
       "stream": "stdout",
       "text": [
        "\n",
        "55000\t1368.02\t\t3.94606e-05\t0.130259\t0\t0.0135\t0.0127"
       ]
      },
      {
       "output_type": "stream",
       "stream": "stdout",
       "text": [
        "\n",
        "55200\t1372.86\t\t3.89629e-05\t0.128699\t0\t0.0133\t0.0124"
       ]
      },
      {
       "output_type": "stream",
       "stream": "stdout",
       "text": [
        "\n",
        "55400\t1377.72\t\t3.92814e-05\t0.12923\t0\t0.0136\t0.0125"
       ]
      },
      {
       "output_type": "stream",
       "stream": "stdout",
       "text": [
        "\n",
        "55600\t1382.57\t\t3.88066e-05\t0.129205\t0\t0.0136\t0.0126"
       ]
      },
      {
       "output_type": "stream",
       "stream": "stdout",
       "text": [
        "\n",
        "55800\t1387.42\t\t3.87139e-05\t0.130188\t0\t0.0137\t0.0127"
       ]
      },
      {
       "output_type": "stream",
       "stream": "stdout",
       "text": [
        "\n",
        "56000\t1392.26\t\t3.99354e-05\t0.128783\t0\t0.0137\t0.0125"
       ]
      },
      {
       "output_type": "stream",
       "stream": "stdout",
       "text": [
        "\n",
        "56200\t1397.1\t\t4.13587e-05\t0.12958\t0\t0.0135\t0.013"
       ]
      },
      {
       "output_type": "stream",
       "stream": "stdout",
       "text": [
        "\n",
        "56400\t1401.94\t\t4.033e-05\t0.129727\t0\t0.0138\t0.0122"
       ]
      },
      {
       "output_type": "stream",
       "stream": "stdout",
       "text": [
        "\n",
        "56600\t1406.79\t\t3.9936e-05\t0.129442\t0\t0.0135\t0.0129"
       ]
      },
      {
       "output_type": "stream",
       "stream": "stdout",
       "text": [
        "\n",
        "56800\t1411.63\t\t4.00613e-05\t0.128795\t0\t0.0136\t0.0123"
       ]
      },
      {
       "output_type": "stream",
       "stream": "stdout",
       "text": [
        "\n",
        "57000\t1416.47\t\t3.97662e-05\t0.12928\t0\t0.0138\t0.013"
       ]
      },
      {
       "output_type": "stream",
       "stream": "stdout",
       "text": [
        "\n",
        "57200\t1421.31\t\t3.82769e-05\t0.129851\t0\t0.0135\t0.0129"
       ]
      },
      {
       "output_type": "stream",
       "stream": "stdout",
       "text": [
        "\n",
        "57400\t1426.16\t\t3.84537e-05\t0.129437\t0\t0.0137\t0.0127"
       ]
      },
      {
       "output_type": "stream",
       "stream": "stdout",
       "text": [
        "\n",
        "57600\t1431\t\t3.79596e-05\t0.129948\t0\t0.0135\t0.0127"
       ]
      },
      {
       "output_type": "stream",
       "stream": "stdout",
       "text": [
        "\n",
        "57800\t1435.86\t\t3.90476e-05\t0.130395\t0\t0.0139\t0.0126"
       ]
      },
      {
       "output_type": "stream",
       "stream": "stdout",
       "text": [
        "\n",
        "58000\t1440.71\t\t4.00137e-05\t0.130104\t0\t0.0134\t0.0125"
       ]
      },
      {
       "output_type": "stream",
       "stream": "stdout",
       "text": [
        "\n",
        "58200\t1445.56\t\t3.7601e-05\t0.129313\t0\t0.0133\t0.0124"
       ]
      },
      {
       "output_type": "stream",
       "stream": "stdout",
       "text": [
        "\n",
        "58400\t1450.41\t\t3.97808e-05\t0.13016\t0\t0.0136\t0.0126"
       ]
      },
      {
       "output_type": "stream",
       "stream": "stdout",
       "text": [
        "\n",
        "58600\t1455.25\t\t3.78873e-05\t0.12901\t0\t0.0134\t0.0127"
       ]
      },
      {
       "output_type": "stream",
       "stream": "stdout",
       "text": [
        "\n",
        "58800\t1460.09\t\t3.74691e-05\t0.129738\t0\t0.0137\t0.0127"
       ]
      },
      {
       "output_type": "stream",
       "stream": "stdout",
       "text": [
        "\n",
        "59000\t1464.93\t\t3.86594e-05\t0.130208\t0\t0.0136\t0.0127"
       ]
      },
      {
       "output_type": "stream",
       "stream": "stdout",
       "text": [
        "\n",
        "59200\t1469.77\t\t3.7738e-05\t0.128977\t0\t0.0134\t0.0124"
       ]
      },
      {
       "output_type": "stream",
       "stream": "stdout",
       "text": [
        "\n",
        "59400\t1474.61\t\t4.07187e-05\t0.128493\t0\t0.0135\t0.0127"
       ]
      },
      {
       "output_type": "stream",
       "stream": "stdout",
       "text": [
        "\n",
        "59600\t1479.45\t\t3.82953e-05\t0.13041\t0\t0.0131\t0.0124"
       ]
      },
      {
       "output_type": "stream",
       "stream": "stdout",
       "text": [
        "\n",
        "59800\t1484.29\t\t3.8577e-05\t0.128711\t0\t0.0137\t0.0125"
       ]
      },
      {
       "output_type": "stream",
       "stream": "stdout",
       "text": [
        "\n",
        "60000\t1489.13\t\t3.81755e-05\t0.130081\t0\t0.0136\t0.0125"
       ]
      },
      {
       "output_type": "stream",
       "stream": "stdout",
       "text": [
        "\n"
       ]
      }
     ],
     "prompt_number": 21
    },
    {
     "cell_type": "code",
     "collapsed": false,
     "input": [
      "import gnumpy as gp\n",
      "gp.free_reuse_cache()"
     ],
     "language": "python",
     "metadata": {},
     "outputs": [],
     "prompt_number": 8
    },
    {
     "cell_type": "code",
     "collapsed": false,
     "input": [
      "m.parameters.data[...] = info['best_pars']"
     ],
     "language": "python",
     "metadata": {},
     "outputs": [],
     "prompt_number": "*"
    },
    {
     "cell_type": "code",
     "collapsed": false,
     "input": [
      "fig = plt.figure(figsize=(16, 9))\n",
      "ax = fig.add_subplot(111)\n",
      "ax.plot(losses[50:])"
     ],
     "language": "python",
     "metadata": {},
     "outputs": [
      {
       "metadata": {},
       "output_type": "pyout",
       "prompt_number": 22,
       "text": [
        "[<matplotlib.lines.Line2D at 0x166f9490>,\n",
        " <matplotlib.lines.Line2D at 0x166f9310>]"
       ]
      },
      {
       "metadata": {},
       "output_type": "display_data",
       "png": "[encoded data removed]",
       "text": [
        "<matplotlib.figure.Figure at 0xc2876d0>"
       ]
      }
     ],
     "prompt_number": 22
    },
    {
     "cell_type": "code",
     "collapsed": false,
     "input": [
      "f_predict = m.function(['inpt'], T.argmax(m.exprs['output_in_mean'], axis=1))\n",
      "\n",
      "TY = f_predict(TX).as_numpy_array()\n",
      "\n",
      "print 'Number of mistakes on the testing set:', (TY != TZ.as_numpy_array().argmax(axis=1)).sum()"
     ],
     "language": "python",
     "metadata": {},
     "outputs": [
      {
       "output_type": "stream",
       "stream": "stdout",
       "text": [
        "Number of mistakes on the testing set: 125\n"
       ]
      }
     ],
     "prompt_number": 23
    }
   ],
   "metadata": {}
  }
 ]
}
